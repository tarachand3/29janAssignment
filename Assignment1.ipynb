{
 "cells": [
  {
   "cell_type": "code",
   "execution_count": null,
   "id": "fd876140",
   "metadata": {},
   "outputs": [],
   "source": [
    "1. Who developed python Porgramming language?\n",
    " Ans: Guido van Rossum"
   ]
  },
  {
   "cell_type": "code",
   "execution_count": null,
   "id": "5f07a412",
   "metadata": {},
   "outputs": [],
   "source": [
    "2. which type of programming does python support?\n",
    "Ans: supporting object-oriented, structured, and functional programming."
   ]
  },
  {
   "cell_type": "code",
   "execution_count": null,
   "id": "f4a543bf",
   "metadata": {},
   "outputs": [],
   "source": [
    "3. Is Python case sensitive when dealing with identifiers?\n",
    "Ans: Yes, python is case sensitiv."
   ]
  },
  {
   "cell_type": "code",
   "execution_count": null,
   "id": "d9ca8d62",
   "metadata": {},
   "outputs": [],
   "source": [
    "4. What is the correct extension of the Python file?\n",
    "Ans. '.py'"
   ]
  },
  {
   "cell_type": "code",
   "execution_count": null,
   "id": "da53cf2c",
   "metadata": {},
   "outputs": [],
   "source": [
    "5. Is Python code compiled or interpreted?\n",
    "Ans. Python is interpreted programming language."
   ]
  },
  {
   "cell_type": "code",
   "execution_count": null,
   "id": "01c75d62",
   "metadata": {},
   "outputs": [],
   "source": [
    "6. Name a few blocks of code used to define in python language?\n",
    "Ans. functions, loops, conditional statements, classes,etc,."
   ]
  },
  {
   "cell_type": "code",
   "execution_count": null,
   "id": "ff9ce313",
   "metadata": {},
   "outputs": [],
   "source": [
    "7. State a character used to give single-line comments in python?\n",
    "Ans. \"#\""
   ]
  },
  {
   "cell_type": "code",
   "execution_count": null,
   "id": "b64f881f",
   "metadata": {},
   "outputs": [],
   "source": [
    "8. Mention functions which can help us to find the version of python that we are currently working on?\n",
    "Ans. sys.version"
   ]
  },
  {
   "cell_type": "code",
   "execution_count": null,
   "id": "a681383d",
   "metadata": {},
   "outputs": [],
   "source": [
    "9. Python supports the creation of anonymous functions at runtime, using a constructor called \n",
    "Ans. lambda"
   ]
  },
  {
   "cell_type": "code",
   "execution_count": null,
   "id": "9b8f416e",
   "metadata": {},
   "outputs": [],
   "source": [
    "10. What does pip stand for python?\n",
    "Ans. pip stands for preferred installer program"
   ]
  },
  {
   "cell_type": "code",
   "execution_count": null,
   "id": "3bbd7962",
   "metadata": {},
   "outputs": [],
   "source": [
    "11. Mention a few built-in functions in python?\n",
    "Ans. print(), type(), int(), input(), range(), etc."
   ]
  },
  {
   "cell_type": "code",
   "execution_count": null,
   "id": "fa1c2dd0",
   "metadata": {},
   "outputs": [],
   "source": [
    "12. What is the maximum possible length of an identifier in python?\n",
    "Ans. 79 characters."
   ]
  },
  {
   "cell_type": "code",
   "execution_count": null,
   "id": "11d9de60",
   "metadata": {},
   "outputs": [],
   "source": [
    "13. Whta are the benefits of using python?\n",
    "Ans. Python is general-purpose used in almost all fields, including: Data Science, Scientific and mathematical computing, \n",
    "     Web development, Finance and trading, System automation and administration, Computer Graphics, Basic game development,\n",
    "    Security and penetration testing, General and application-specific scripting, etc."
   ]
  },
  {
   "cell_type": "code",
   "execution_count": null,
   "id": "628f4134",
   "metadata": {},
   "outputs": [],
   "source": [
    "14. How is memory managed in python?\n",
    "Ans. -> Memory in Python is managed by Python private heap space. All Python objects and data structures are located in a \n",
    "        private heap. This private heap is taken care of by Python Interpreter itself, and a programmer \n",
    "        doesn’t have access to this private heap.\n",
    "     -> Python memory manager takes care of the allocation of Python private heap space.\n",
    "     -> Memory for Python private heap space is made available by Python’s in-built garbage collector, which recycles and \n",
    "        frees up all the unused memory."
   ]
  },
  {
   "cell_type": "code",
   "execution_count": null,
   "id": "25b067c4",
   "metadata": {},
   "outputs": [],
   "source": [
    "15. How to install Python on Windlows and set path variables?\n",
    "Ans. -> Install python from this link https://www.python.org/downloads/\n",
    "        After this, install it on your PC. Look for the location where PYTHON has been installed on your PC using tge \n",
    "        following command on your command prompt: cmd python.\n",
    "     -> Then go to advanced system settings and add new variable and name it as PYTHON_NAME and paste the copied path.\n",
    "     -> Then look for the path variable, select it's value and select edit\n",
    "     -> Add a semicolon towards the end of the value if it's not present and then type %PYTHON_HOME%"
   ]
  }
 ],
 "metadata": {
  "kernelspec": {
   "display_name": "Python 3 (ipykernel)",
   "language": "python",
   "name": "python3"
  },
  "language_info": {
   "codemirror_mode": {
    "name": "ipython",
    "version": 3
   },
   "file_extension": ".py",
   "mimetype": "text/x-python",
   "name": "python",
   "nbconvert_exporter": "python",
   "pygments_lexer": "ipython3",
   "version": "3.11.1"
  }
 },
 "nbformat": 4,
 "nbformat_minor": 5
}
